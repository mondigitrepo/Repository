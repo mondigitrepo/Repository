{
 "metadata": {
  "name": "",
  "signature": "sha256:25f94ce95c1947377206518be932514358436c6e0562f836caf54a529b6eff54"
 },
 "nbformat": 3,
 "nbformat_minor": 0,
 "worksheets": [
  {
   "cells": [
    {
     "cell_type": "code",
     "collapsed": false,
     "input": [
      "print \"program to find biggest of two numbers\"\n",
      "print \"enter two numbers : \"\n",
      "num1 = raw_input()\n",
      "num2 =raw_input()\n",
      "number1 = num1\n",
      "number2 = num2\n",
      "if number1 > number2:\n",
      "    print \"number1 is bigger\"\n",
      "else:\n",
      "    print \"number2 is bigger\"\n"
     ],
     "language": "python",
     "metadata": {},
     "outputs": [
      {
       "output_type": "stream",
       "stream": "stdout",
       "text": [
        "program to find biggest of two numbers\n",
        "enter two numbers : \n"
       ]
      },
      {
       "name": "stdout",
       "output_type": "stream",
       "stream": "stdout",
       "text": [
        "10\n"
       ]
      },
      {
       "name": "stdout",
       "output_type": "stream",
       "stream": "stdout",
       "text": [
        "20\n"
       ]
      },
      {
       "output_type": "stream",
       "stream": "stdout",
       "text": [
        "number2 is bigger\n"
       ]
      }
     ],
     "prompt_number": 8
    },
    {
     "cell_type": "code",
     "collapsed": false,
     "input": [
      "print \"program to find the second occurance of given substring\"\n",
      "print \"enter a string  :  \"\n",
      "s = raw_input()\n",
      "s.find(\"c\",s.find(\"c\")+1)"
     ],
     "language": "python",
     "metadata": {},
     "outputs": [
      {
       "output_type": "stream",
       "stream": "stdout",
       "text": [
        "to find the second occurance of given substring\n",
        "enter a string  :  \n"
       ]
      },
      {
       "name": "stdout",
       "output_type": "stream",
       "stream": "stdout",
       "text": [
        "chiranjeevichirutha\n"
       ]
      },
      {
       "metadata": {},
       "output_type": "pyout",
       "prompt_number": 12,
       "text": [
        "11"
       ]
      }
     ],
     "prompt_number": 12
    },
    {
     "cell_type": "code",
     "collapsed": false,
     "input": [
      "print \"program to find factorial of a given numer\"\n",
      "n = raw_input()  #raw_input() always take string as input\n",
      "num = int(n) #so here we are doing type casting ie here we are converting string to int\n",
      "factorial = 1\n",
      "for i in range(1,num+1):\n",
      "    factorial = factorial*i\n",
      "    print \"factorial of number is : \",factorial\n",
      "\n",
      "    "
     ],
     "language": "python",
     "metadata": {},
     "outputs": [
      {
       "output_type": "stream",
       "stream": "stdout",
       "text": [
        "program to find factorial of a given numer\n"
       ]
      },
      {
       "name": "stdout",
       "output_type": "stream",
       "stream": "stdout",
       "text": [
        "4\n"
       ]
      },
      {
       "output_type": "stream",
       "stream": "stdout",
       "text": [
        "factorial of number is :  1\n",
        "factorial of number is :  2\n",
        "factorial of number is :  6\n",
        "factorial of number is :  24\n"
       ]
      }
     ],
     "prompt_number": 18
    }
   ],
   "metadata": {}
  }
 ]
}