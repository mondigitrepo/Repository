{
 "metadata": {
  "name": "",
  "signature": "sha256:581c725e756238d4947875c7afca20718962cd096981f480960758ced58a2819"
 },
 "nbformat": 3,
 "nbformat_minor": 0,
 "worksheets": [
  {
   "cells": [
    {
     "cell_type": "code",
     "collapsed": false,
     "input": [
      "print \"1) s.capitalize() function\"\n",
      "s = raw_input(\"enter a string : \")\n",
      "print \"s.capitalize() ---> \",s.capitalize()"
     ],
     "language": "python",
     "metadata": {},
     "outputs": [
      {
       "output_type": "stream",
       "stream": "stdout",
       "text": [
        "1) s.capitalize() function\n"
       ]
      },
      {
       "name": "stdout",
       "output_type": "stream",
       "stream": "stdout",
       "text": [
        "enter a string : thiS IS A pyTHon ProgrAM\n"
       ]
      },
      {
       "output_type": "stream",
       "stream": "stdout",
       "text": [
        "s.capitalize() --->  This is a python program\n"
       ]
      }
     ],
     "prompt_number": 1
    },
    {
     "cell_type": "code",
     "collapsed": false,
     "input": [
      "print \"2) s.lower() function\"\n",
      "s = raw_input(\"enter a string : \")\n",
      "print \"s.lower() ---> \",s.lower()"
     ],
     "language": "python",
     "metadata": {},
     "outputs": [
      {
       "output_type": "stream",
       "stream": "stdout",
       "text": [
        "2) s.lower() function\n"
       ]
      },
      {
       "name": "stdout",
       "output_type": "stream",
       "stream": "stdout",
       "text": [
        "enter a string : THIS IS A PYTHON PROGRAM\n"
       ]
      },
      {
       "output_type": "stream",
       "stream": "stdout",
       "text": [
        "s.lower() --->  this is a python program\n"
       ]
      }
     ],
     "prompt_number": 3
    },
    {
     "cell_type": "code",
     "collapsed": false,
     "input": [
      "print \"3) s.upper() function\"\n",
      "s = raw_input(\"enter a string : \")\n",
      "print \"s.upper() ---> \",s.upper()"
     ],
     "language": "python",
     "metadata": {},
     "outputs": [
      {
       "output_type": "stream",
       "stream": "stdout",
       "text": [
        "3) s.upper() function\n"
       ]
      },
      {
       "name": "stdout",
       "output_type": "stream",
       "stream": "stdout",
       "text": [
        "enter a string : this is a python program\n"
       ]
      },
      {
       "output_type": "stream",
       "stream": "stdout",
       "text": [
        "s.upper() --->  THIS IS A PYTHON PROGRAM\n"
       ]
      }
     ],
     "prompt_number": 5
    },
    {
     "cell_type": "code",
     "collapsed": false,
     "input": [
      "print \"4) s.replace() function\"\n",
      "s = raw_input(\"enter a string : \")\n",
      "print \"s.replace() ---> \",s.replace(\"P\" , \"S\")"
     ],
     "language": "python",
     "metadata": {},
     "outputs": [
      {
       "output_type": "stream",
       "stream": "stdout",
       "text": [
        " 3) s.replace() function\n"
       ]
      },
      {
       "name": "stdout",
       "output_type": "stream",
       "stream": "stdout",
       "text": [
        "enter a string : This is a Python Program\n"
       ]
      },
      {
       "output_type": "stream",
       "stream": "stdout",
       "text": [
        "s.replace() --->  This is a Sython Srogram\n"
       ]
      }
     ],
     "prompt_number": 7
    },
    {
     "cell_type": "code",
     "collapsed": false,
     "input": [
      "print \"5) s.split() function\"\n",
      "s = raw_input(\"enter a string : \")\n",
      "print \"s.split() ---> \",s.split()"
     ],
     "language": "python",
     "metadata": {},
     "outputs": [
      {
       "output_type": "stream",
       "stream": "stdout",
       "text": [
        "3) s.split() function\n"
       ]
      },
      {
       "name": "stdout",
       "output_type": "stream",
       "stream": "stdout",
       "text": [
        "enter a string : This is a python program\n"
       ]
      },
      {
       "output_type": "stream",
       "stream": "stdout",
       "text": [
        "s.split() --->  ['This', 'is', 'a', 'python', 'program']\n"
       ]
      }
     ],
     "prompt_number": 10
    },
    {
     "cell_type": "code",
     "collapsed": false,
     "input": [
      "print \"5) s.split() function\"\n",
      "s = raw_input(\"enter a string : \")\n",
      "print \"s.split() ---> \",s.split(\"p\")"
     ],
     "language": "python",
     "metadata": {},
     "outputs": [
      {
       "output_type": "stream",
       "stream": "stdout",
       "text": [
        "3) s.split() function\n"
       ]
      },
      {
       "name": "stdout",
       "output_type": "stream",
       "stream": "stdout",
       "text": [
        "enter a string : This is a python program eleventh example please go through this program\n"
       ]
      },
      {
       "output_type": "stream",
       "stream": "stdout",
       "text": [
        "s.split() --->  ['This is a ', 'ython ', 'rogram eleventh exam', 'le ', 'lease go through this ', 'rogram']\n"
       ]
      }
     ],
     "prompt_number": 12
    },
    {
     "cell_type": "code",
     "collapsed": false,
     "input": [
      "print \"6) s.isupper() function\"\n",
      "s = raw_input(\"enter a string : \")   #entering all cased characters\n",
      "print \"s.isupper() ---> \",s.isupper()"
     ],
     "language": "python",
     "metadata": {},
     "outputs": [
      {
       "output_type": "stream",
       "stream": "stdout",
       "text": [
        "3) s.isupper() function\n"
       ]
      },
      {
       "name": "stdout",
       "output_type": "stream",
       "stream": "stdout",
       "text": [
        "enter a string : MANOJ\n"
       ]
      },
      {
       "output_type": "stream",
       "stream": "stdout",
       "text": [
        "s.isupper() --->  True\n"
       ]
      }
     ],
     "prompt_number": 1
    },
    {
     "cell_type": "code",
     "collapsed": false,
     "input": [
      "print \"6) s.isupper() function\"\n",
      "s = raw_input(\"enter a string : \")   #entering atleast one cased character\n",
      "print \"s.isupper() ---> \",s.isupper()"
     ],
     "language": "python",
     "metadata": {},
     "outputs": [
      {
       "output_type": "stream",
       "stream": "stdout",
       "text": [
        "3) s.isupper() function\n"
       ]
      },
      {
       "name": "stdout",
       "output_type": "stream",
       "stream": "stdout",
       "text": [
        "enter a string : 1234A\n"
       ]
      },
      {
       "output_type": "stream",
       "stream": "stdout",
       "text": [
        "s.isupper() --->  True\n"
       ]
      }
     ],
     "prompt_number": 4
    },
    {
     "cell_type": "code",
     "collapsed": false,
     "input": [
      "print \"6) s.isupper() function\"\n",
      "s = raw_input(\"enter a string : \")   #entering atleast one cased character\n",
      "print \"s.isupper() ---> \",s.isupper()"
     ],
     "language": "python",
     "metadata": {},
     "outputs": [
      {
       "output_type": "stream",
       "stream": "stdout",
       "text": [
        "3) s.isupper() function\n"
       ]
      },
      {
       "name": "stdout",
       "output_type": "stream",
       "stream": "stdout",
       "text": [
        "enter a string : 12345Manoj\n"
       ]
      },
      {
       "output_type": "stream",
       "stream": "stdout",
       "text": [
        "s.isupper() --->  False\n"
       ]
      }
     ],
     "prompt_number": 5
    },
    {
     "cell_type": "code",
     "collapsed": false,
     "input": [
      "print \"7) s.find() function\"\n",
      "s = raw_input(\"enter a string : \")\n",
      "print \"s.find() ---> \",s.find(\"abc\")\n"
     ],
     "language": "python",
     "metadata": {},
     "outputs": [
      {
       "output_type": "stream",
       "stream": "stdout",
       "text": [
        " 7) s.find() function\n"
       ]
      },
      {
       "name": "stdout",
       "output_type": "stream",
       "stream": "stdout",
       "text": [
        "enter a string : abc def abc\n"
       ]
      },
      {
       "output_type": "stream",
       "stream": "stdout",
       "text": [
        "s.find() --->  0\n"
       ]
      }
     ],
     "prompt_number": 3
    },
    {
     "cell_type": "code",
     "collapsed": false,
     "input": [
      "print \"7) s.find() function\"\n",
      "s = raw_input(\"enter a string : \")\n",
      "print \"s.find() ---> \",s.find(\"abc\",4) #from 4 th index it will start searcing for abc\n"
     ],
     "language": "python",
     "metadata": {},
     "outputs": [
      {
       "output_type": "stream",
       "stream": "stdout",
       "text": [
        "7) s.find() function\n"
       ]
      },
      {
       "name": "stdout",
       "output_type": "stream",
       "stream": "stdout",
       "text": [
        "enter a string : abc def abc\n"
       ]
      },
      {
       "output_type": "stream",
       "stream": "stdout",
       "text": [
        "s.find() --->  8\n"
       ]
      }
     ],
     "prompt_number": 4
    },
    {
     "cell_type": "code",
     "collapsed": false,
     "input": [
      "print \"7) s.find() function\"\n",
      "s = raw_input(\"enter a string : \")\n",
      "print \"s.find() ---> \",s.find(\"xyz\") #we are entering a substring which is not there,the result is it will return -1\n"
     ],
     "language": "python",
     "metadata": {},
     "outputs": [
      {
       "output_type": "stream",
       "stream": "stdout",
       "text": [
        "7) s.find() function\n"
       ]
      },
      {
       "name": "stdout",
       "output_type": "stream",
       "stream": "stdout",
       "text": [
        "enter a string : abc def abc\n"
       ]
      },
      {
       "output_type": "stream",
       "stream": "stdout",
       "text": [
        "s.find() --->  -1\n"
       ]
      }
     ],
     "prompt_number": 5
    },
    {
     "cell_type": "code",
     "collapsed": false,
     "input": [
      "print \"8) s.rfind() function\"\n",
      "s = raw_input(\"enter a string : \")\n",
      "print \"s.rfind() ---> \",s.rfind(\"abc\")           #rfind() finds the last occurance"
     ],
     "language": "python",
     "metadata": {},
     "outputs": [
      {
       "output_type": "stream",
       "stream": "stdout",
       "text": [
        "8) s.rfind() function\n"
       ]
      },
      {
       "name": "stdout",
       "output_type": "stream",
       "stream": "stdout",
       "text": [
        "enter a string : abc def ghi jkl mno pqr abc xyz\n"
       ]
      },
      {
       "output_type": "stream",
       "stream": "stdout",
       "text": [
        "s.rfind() --->  24\n"
       ]
      }
     ],
     "prompt_number": 6
    },
    {
     "cell_type": "code",
     "collapsed": false,
     "input": [
      "print \"9) s.index() function\"\n",
      "s = raw_input(\"enter a string : \")\n",
      "print \"s.index() ---> \",s.index(\"xyz\")           "
     ],
     "language": "python",
     "metadata": {},
     "outputs": [
      {
       "output_type": "stream",
       "stream": "stdout",
       "text": [
        " 9) s.index() function\n"
       ]
      },
      {
       "name": "stdout",
       "output_type": "stream",
       "stream": "stdout",
       "text": [
        "enter a string : abc xyz\n"
       ]
      },
      {
       "output_type": "stream",
       "stream": "stdout",
       "text": [
        "s.index() --->  4\n"
       ]
      }
     ],
     "prompt_number": 9
    },
    {
     "cell_type": "code",
     "collapsed": false,
     "input": [
      "print \"9) s.index() function\"\n",
      "s = raw_input(\"enter a string : \")\n",
      "print \"s.index() ---> \",s.index(\"xyz\")   #here it won't give -1 (like s.find())if substring not found,just it gives an error"
     ],
     "language": "python",
     "metadata": {},
     "outputs": [
      {
       "output_type": "stream",
       "stream": "stdout",
       "text": [
        "9) s.index() function\n"
       ]
      },
      {
       "name": "stdout",
       "output_type": "stream",
       "stream": "stdout",
       "text": [
        "enter a string : abc def ijk\n"
       ]
      },
      {
       "output_type": "stream",
       "stream": "stdout",
       "text": [
        "s.index() ---> "
       ]
      },
      {
       "ename": "ValueError",
       "evalue": "substring not found",
       "output_type": "pyerr",
       "traceback": [
        "\u001b[0;31m---------------------------------------------------------------------------\u001b[0m\n\u001b[0;31mValueError\u001b[0m                                Traceback (most recent call last)",
        "\u001b[0;32m<ipython-input-10-3297d921f4d2>\u001b[0m in \u001b[0;36m<module>\u001b[0;34m()\u001b[0m\n\u001b[1;32m      1\u001b[0m \u001b[0;32mprint\u001b[0m \u001b[0;34m\"9) s.index() function\"\u001b[0m\u001b[0;34m\u001b[0m\u001b[0m\n\u001b[1;32m      2\u001b[0m \u001b[0ms\u001b[0m \u001b[0;34m=\u001b[0m \u001b[0mraw_input\u001b[0m\u001b[0;34m(\u001b[0m\u001b[0;34m\"enter a string : \"\u001b[0m\u001b[0;34m)\u001b[0m\u001b[0;34m\u001b[0m\u001b[0m\n\u001b[0;32m----> 3\u001b[0;31m \u001b[0;32mprint\u001b[0m \u001b[0;34m\"s.index() ---> \"\u001b[0m\u001b[0;34m,\u001b[0m\u001b[0ms\u001b[0m\u001b[0;34m.\u001b[0m\u001b[0mindex\u001b[0m\u001b[0;34m(\u001b[0m\u001b[0;34m\"xyz\"\u001b[0m\u001b[0;34m)\u001b[0m\u001b[0;34m\u001b[0m\u001b[0m\n\u001b[0m",
        "\u001b[0;31mValueError\u001b[0m: substring not found"
       ]
      }
     ],
     "prompt_number": 10
    },
    {
     "cell_type": "code",
     "collapsed": false,
     "input": [
      "print \"10) s.rindex() function\"\n",
      "s = raw_input(\"enter a string : \")\n",
      "print \"s.rindex() ---> \",s.rindex(\"xyz\")           # gives the index of last occurance"
     ],
     "language": "python",
     "metadata": {},
     "outputs": [
      {
       "output_type": "stream",
       "stream": "stdout",
       "text": [
        " 10) s.rindex() function\n"
       ]
      },
      {
       "name": "stdout",
       "output_type": "stream",
       "stream": "stdout",
       "text": [
        "enter a string : abc def ijk xyz abc wxyz abc\n"
       ]
      },
      {
       "output_type": "stream",
       "stream": "stdout",
       "text": [
        "s.rindex() --->  21\n"
       ]
      }
     ],
     "prompt_number": 11
    },
    {
     "cell_type": "code",
     "collapsed": false,
     "input": [],
     "language": "python",
     "metadata": {},
     "outputs": []
    }
   ],
   "metadata": {}
  }
 ]
}