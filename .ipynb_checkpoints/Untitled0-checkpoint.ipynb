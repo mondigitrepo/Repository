{
 "metadata": {
  "name": "",
  "signature": "sha256:c39090c187058b5a9eea4653ab0888afe0729e0559399555ed197e831d5c4b97"
 },
 "nbformat": 3,
 "nbformat_minor": 0,
 "worksheets": []
}