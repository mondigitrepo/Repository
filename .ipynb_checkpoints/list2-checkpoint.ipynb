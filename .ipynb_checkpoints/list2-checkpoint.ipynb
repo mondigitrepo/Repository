{
 "metadata": {
  "kernelspec": {
   "display_name": "Python 2",
   "language": "python",
   "name": "python2"
  },
  "language_info": {
   "codemirror_mode": {
    "name": "ipython",
    "version": 2
   },
   "file_extension": ".py",
   "mimetype": "text/x-python",
   "name": "python",
   "nbconvert_exporter": "python",
   "pygments_lexer": "ipython2",
   "version": "2.7.13"
  },
  "name": "",
  "signature": "sha256:207b7c80f5640c1d4585e07efb482e07dc43806c010fa60438cc565c95b9a8f7"
 },
 "nbformat": 3,
 "nbformat_minor": 0,
 "worksheets": [
  {
   "cells": [
    {
     "cell_type": "code",
     "collapsed": false,
     "input": [
      "l=[10,-2,4,7,20] # this is given list                                   DATE: 5/06/2017\n",
      "l1=[]\n",
      "for i in l:\n",
      "    print i"
     ],
     "language": "python",
     "metadata": {},
     "outputs": [
      {
       "output_type": "stream",
       "stream": "stdout",
       "text": [
        "10\n",
        "-2\n",
        "4\n",
        "7\n",
        "20\n"
       ]
      }
     ],
     "prompt_number": 1
    },
    {
     "cell_type": "code",
     "collapsed": false,
     "input": [
      "l=[10,-2,4,7,20]   # now we need to add +2 for each element in list\n",
      "l1=[]\n",
      "for i in l:\n",
      "    print i+2"
     ],
     "language": "python",
     "metadata": {},
     "outputs": [
      {
       "output_type": "stream",
       "stream": "stdout",
       "text": [
        "12\n",
        "0\n",
        "6\n",
        "9\n",
        "22\n"
       ]
      }
     ],
     "prompt_number": 2
    },
    {
     "cell_type": "code",
     "collapsed": false,
     "input": [
      "l=[10,-2,4,7,20]\n",
      "l1=[]\n",
      "for i in l:\n",
      "    l1.append(i+2) # we can use append function to add elements and print in a list format\n",
      "print l1"
     ],
     "language": "python",
     "metadata": {},
     "outputs": [
      {
       "output_type": "stream",
       "stream": "stdout",
       "text": [
        "[12, 0, 6, 9, 22]\n"
       ]
      }
     ],
     "prompt_number": 3
    },
    {
     "cell_type": "code",
     "collapsed": false,
     "input": [
      "def fun(x):\n",
      "    return x+2\n",
      "l1=[]\n",
      "for i in l:\n",
      "    l1.append(fun(i)) # here we are using functions\n",
      "print l1"
     ],
     "language": "python",
     "metadata": {},
     "outputs": [
      {
       "output_type": "stream",
       "stream": "stdout",
       "text": [
        "[12, 0, 6, 9, 22]\n"
       ]
      }
     ],
     "prompt_number": 4
    },
    {
     "cell_type": "code",
     "collapsed": false,
     "input": [
      "l=[10,-2,4,7,20]       # now here four lines ie l1=[],for i in l:,l1.append(fun(i)),print l1 are replaced by map(fun,l)\n",
      "def fun(x):             #map is a function  \n",
      "    return x+2\n",
      "print map(fun,l)  "
     ],
     "language": "python",
     "metadata": {},
     "outputs": [
      {
       "output_type": "stream",
       "stream": "stdout",
       "text": [
        "[12, 0, 6, 9, 22]\n"
       ]
      }
     ],
     "prompt_number": 6
    },
    {
     "cell_type": "code",
     "collapsed": false,
     "input": [
      "def fun(x,y):\n",
      "    return x+y\n",
      "\n",
      "l1=[1,2,3,4]\n",
      "l2=[5,6,7,8]\n",
      "for i in enumerate(\"python\"):\n",
      "    print i"
     ],
     "language": "python",
     "metadata": {},
     "outputs": [
      {
       "output_type": "stream",
       "stream": "stdout",
       "text": [
        "(0, 'p')\n",
        "(1, 'y')\n",
        "(2, 't')\n",
        "(3, 'h')\n",
        "(4, 'o')\n",
        "(5, 'n')\n"
       ]
      }
     ],
     "prompt_number": 7
    },
    {
     "cell_type": "code",
     "collapsed": false,
     "input": [
      "def fun(x,y):\n",
      "    return x+y\n",
      "\n",
      "l1=[1,2,3,4]\n",
      "l2=[5,6,7,8]\n",
      "for i in enumerate(l1):\n",
      "    print i"
     ],
     "language": "python",
     "metadata": {},
     "outputs": [
      {
       "output_type": "stream",
       "stream": "stdout",
       "text": [
        "(0, 1)\n",
        "(1, 2)\n",
        "(2, 3)\n",
        "(3, 4)\n"
       ]
      }
     ],
     "prompt_number": 8
    },
    {
     "cell_type": "code",
     "collapsed": true,
     "input": [
      "a,b=(1,2)"
     ],
     "language": "python",
     "metadata": {},
     "outputs": [],
     "prompt_number": 9
    },
    {
     "cell_type": "code",
     "collapsed": false,
     "input": [
      "a"
     ],
     "language": "python",
     "metadata": {},
     "outputs": [
      {
       "metadata": {},
       "output_type": "pyout",
       "prompt_number": 10,
       "text": [
        "1"
       ]
      }
     ],
     "prompt_number": 10
    },
    {
     "cell_type": "code",
     "collapsed": false,
     "input": [
      "b"
     ],
     "language": "python",
     "metadata": {},
     "outputs": [
      {
       "metadata": {},
       "output_type": "pyout",
       "prompt_number": 11,
       "text": [
        "2"
       ]
      }
     ],
     "prompt_number": 11
    },
    {
     "cell_type": "code",
     "collapsed": false,
     "input": [
      "def fun(x,y):\n",
      "    return x+y\n",
      "\n",
      "l1=[1,2,3,4]\n",
      "l2=[5,6,7,8]\n",
      "for index, value in enumerate(l1):\n",
      "    print index"
     ],
     "language": "python",
     "metadata": {},
     "outputs": [
      {
       "output_type": "stream",
       "stream": "stdout",
       "text": [
        "0\n",
        "1\n",
        "2\n",
        "3\n"
       ]
      }
     ],
     "prompt_number": 12
    },
    {
     "cell_type": "code",
     "collapsed": false,
     "input": [
      "def fun(x,y):\n",
      "    return x+y\n",
      "\n",
      "l1=[1,2,3,4]\n",
      "l2=[5,6,7,8]\n",
      "for index, value in enumerate(l1):\n",
      "    print index,value"
     ],
     "language": "python",
     "metadata": {},
     "outputs": [
      {
       "output_type": "stream",
       "stream": "stdout",
       "text": [
        "0 1\n",
        "1 2\n",
        "2 3\n",
        "3 4\n"
       ]
      }
     ],
     "prompt_number": 13
    },
    {
     "cell_type": "code",
     "collapsed": false,
     "input": [
      "def fun(x,y):\n",
      "    return x+y\n",
      "\n",
      "l1=[1,2,3,4]\n",
      "l2=[5,6,7,8]\n",
      "for index, value in enumerate(l1):\n",
      "    print value,l2[index]"
     ],
     "language": "python",
     "metadata": {},
     "outputs": [
      {
       "output_type": "stream",
       "stream": "stdout",
       "text": [
        "1 5\n",
        "2 6\n",
        "3 7\n",
        "4 8\n"
       ]
      }
     ],
     "prompt_number": 14
    },
    {
     "cell_type": "code",
     "collapsed": false,
     "input": [
      "def fun(x,y):\n",
      "    return x+y\n",
      "\n",
      "l1=[1,2,3,4]\n",
      "l2=[5,6,7,8]\n",
      "for index, value in enumerate(l1):\n",
      "    print value+l2[index]"
     ],
     "language": "python",
     "metadata": {},
     "outputs": [
      {
       "output_type": "stream",
       "stream": "stdout",
       "text": [
        "6\n",
        "8\n",
        "10\n",
        "12\n"
       ]
      }
     ],
     "prompt_number": 15
    },
    {
     "cell_type": "code",
     "collapsed": false,
     "input": [
      "def fun(x,y):\n",
      "    return x+y\n",
      "\n",
      "l1=[1,2,3,4]\n",
      "l2=[5,6,7,8]\n",
      "res=[]\n",
      "for index, value in enumerate(l1):\n",
      "    res.append(value+l2[index])\n",
      "print \"result=\",res "
     ],
     "language": "python",
     "metadata": {},
     "outputs": [
      {
       "output_type": "stream",
       "stream": "stdout",
       "text": [
        "result= [6, 8, 10, 12]\n"
       ]
      }
     ],
     "prompt_number": 16
    },
    {
     "cell_type": "code",
     "collapsed": false,
     "input": [
      "zip(l1,l2)"
     ],
     "language": "python",
     "metadata": {},
     "outputs": [
      {
       "metadata": {},
       "output_type": "pyout",
       "prompt_number": 17,
       "text": [
        "[(1, 5), (2, 6), (3, 7), (4, 8)]"
       ]
      }
     ],
     "prompt_number": 17
    },
    {
     "cell_type": "code",
     "collapsed": false,
     "input": [
      "zip(l1,l2,[9,10,11,12])"
     ],
     "language": "python",
     "metadata": {},
     "outputs": [
      {
       "metadata": {},
       "output_type": "pyout",
       "prompt_number": 18,
       "text": [
        "[(1, 5, 9), (2, 6, 10), (3, 7, 11), (4, 8, 12)]"
       ]
      }
     ],
     "prompt_number": 18
    },
    {
     "cell_type": "code",
     "collapsed": false,
     "input": [
      "def fun(x,y):\n",
      "    return x+y\n",
      "\n",
      "l1=[1,2,3,4]\n",
      "l2=[5,6,7,8]\n",
      "res=[]\n",
      "for v1,v2 in zip(l1, l2):\n",
      "    res.append(v1+v2)\n",
      "print \"result=\",res "
     ],
     "language": "python",
     "metadata": {},
     "outputs": [
      {
       "output_type": "stream",
       "stream": "stdout",
       "text": [
        "result= [6, 8, 10, 12]\n"
       ]
      }
     ],
     "prompt_number": 19
    },
    {
     "cell_type": "code",
     "collapsed": false,
     "input": [
      "l1=[1,2,3,4]\n",
      "l2=[5,6,7,8]\n",
      "def fun(x,y):\n",
      "    print \"x=%s, y=%s\"%(x,y)\n",
      "    print x+y\n",
      "l=map(fun,l1,l2)\n",
      "print l"
     ],
     "language": "python",
     "metadata": {},
     "outputs": [
      {
       "output_type": "stream",
       "stream": "stdout",
       "text": [
        "x=1, y=5\n",
        "6\n",
        "x=2, y=6\n",
        "8\n",
        "x=3, y=7\n",
        "10\n",
        "x=4, y=8\n",
        "12\n",
        "[None, None, None, None]\n"
       ]
      }
     ],
     "prompt_number": 20
    },
    {
     "cell_type": "code",
     "collapsed": false,
     "input": [
      "l1=[1,2,3,4]\n",
      "l2=[5,6,7,8]\n",
      "def fun(x,y):\n",
      "    print \"x=%s, y=%s\"%(x,y)\n",
      "    print x+y\n",
      "    return x+y\n",
      "l=map(fun,l1,l2)\n",
      "print l"
     ],
     "language": "python",
     "metadata": {},
     "outputs": [
      {
       "output_type": "stream",
       "stream": "stdout",
       "text": [
        "x=1, y=5\n",
        "6\n",
        "x=2, y=6\n",
        "8\n",
        "x=3, y=7\n",
        "10\n",
        "x=4, y=8\n",
        "12\n",
        "[6, 8, 10, 12]\n"
       ]
      }
     ],
     "prompt_number": 21
    },
    {
     "cell_type": "code",
     "collapsed": false,
     "input": [
      "l1=[1,2,3,4]\n",
      "l2=[5,6,7,8]\n",
      "def fun(x,y):\n",
      "    print \"x=%s, y=%s\"%(x,y)\n",
      "    print x+y\n",
      "    return x+y\n",
      "l=map(fun,\"python\",\"progra\")\n",
      "print l"
     ],
     "language": "python",
     "metadata": {},
     "outputs": [
      {
       "output_type": "stream",
       "stream": "stdout",
       "text": [
        "x=p, y=p\n",
        "pp\n",
        "x=y, y=r\n",
        "yr\n",
        "x=t, y=o\n",
        "to\n",
        "x=h, y=g\n",
        "hg\n",
        "x=o, y=r\n",
        "or\n",
        "x=n, y=a\n",
        "na\n",
        "['pp', 'yr', 'to', 'hg', 'or', 'na']\n"
       ]
      }
     ],
     "prompt_number": 22
    },
    {
     "cell_type": "code",
     "collapsed": false,
     "input": [
      "l1=[1,2,3,4]\n",
      "l2=[5,6,7,8]\n",
      "def fun(x,y):\n",
      "    print \"x=%s, y=%s\"%(x,y)\n",
      "    print x+y\n",
      "    return x+y\n",
      "l=map(fun,\"python\",\"program\")\n",
      "print l"
     ],
     "language": "python",
     "metadata": {},
     "outputs": [
      {
       "output_type": "stream",
       "stream": "stdout",
       "text": [
        "x=p, y=p\n",
        "pp\n",
        "x=y, y=r\n",
        "yr\n",
        "x=t, y=o\n",
        "to\n",
        "x=h, y=g\n",
        "hg\n",
        "x=o, y=r\n",
        "or\n",
        "x=n, y=a\n",
        "na\n",
        "x=None, y=m\n"
       ]
      },
      {
       "ename": "TypeError",
       "evalue": "unsupported operand type(s) for +: 'NoneType' and 'str'",
       "output_type": "pyerr",
       "traceback": [
        "\u001b[0;31m---------------------------------------------------------------------------\u001b[0m",
        "\u001b[0;31mTypeError\u001b[0m                                 Traceback (most recent call last)",
        "\u001b[0;32m<ipython-input-23-c090a5f5f2cd>\u001b[0m in \u001b[0;36m<module>\u001b[0;34m()\u001b[0m\n\u001b[1;32m      5\u001b[0m     \u001b[0;32mprint\u001b[0m \u001b[0mx\u001b[0m\u001b[0;34m+\u001b[0m\u001b[0my\u001b[0m\u001b[0;34m\u001b[0m\u001b[0m\n\u001b[1;32m      6\u001b[0m     \u001b[0;32mreturn\u001b[0m \u001b[0mx\u001b[0m\u001b[0;34m+\u001b[0m\u001b[0my\u001b[0m\u001b[0;34m\u001b[0m\u001b[0m\n\u001b[0;32m----> 7\u001b[0;31m \u001b[0ml\u001b[0m\u001b[0;34m=\u001b[0m\u001b[0mmap\u001b[0m\u001b[0;34m(\u001b[0m\u001b[0mfun\u001b[0m\u001b[0;34m,\u001b[0m\u001b[0;34m\"python\"\u001b[0m\u001b[0;34m,\u001b[0m\u001b[0;34m\"program\"\u001b[0m\u001b[0;34m)\u001b[0m\u001b[0;34m\u001b[0m\u001b[0m\n\u001b[0m\u001b[1;32m      8\u001b[0m \u001b[0;32mprint\u001b[0m \u001b[0ml\u001b[0m\u001b[0;34m\u001b[0m\u001b[0m\n",
        "\u001b[0;32m<ipython-input-23-c090a5f5f2cd>\u001b[0m in \u001b[0;36mfun\u001b[0;34m(x, y)\u001b[0m\n\u001b[1;32m      3\u001b[0m \u001b[0;32mdef\u001b[0m \u001b[0mfun\u001b[0m\u001b[0;34m(\u001b[0m\u001b[0mx\u001b[0m\u001b[0;34m,\u001b[0m\u001b[0my\u001b[0m\u001b[0;34m)\u001b[0m\u001b[0;34m:\u001b[0m\u001b[0;34m\u001b[0m\u001b[0m\n\u001b[1;32m      4\u001b[0m     \u001b[0;32mprint\u001b[0m \u001b[0;34m\"x=%s, y=%s\"\u001b[0m\u001b[0;34m%\u001b[0m\u001b[0;34m(\u001b[0m\u001b[0mx\u001b[0m\u001b[0;34m,\u001b[0m\u001b[0my\u001b[0m\u001b[0;34m)\u001b[0m\u001b[0;34m\u001b[0m\u001b[0m\n\u001b[0;32m----> 5\u001b[0;31m     \u001b[0;32mprint\u001b[0m \u001b[0mx\u001b[0m\u001b[0;34m+\u001b[0m\u001b[0my\u001b[0m\u001b[0;34m\u001b[0m\u001b[0m\n\u001b[0m\u001b[1;32m      6\u001b[0m     \u001b[0;32mreturn\u001b[0m \u001b[0mx\u001b[0m\u001b[0;34m+\u001b[0m\u001b[0my\u001b[0m\u001b[0;34m\u001b[0m\u001b[0m\n\u001b[1;32m      7\u001b[0m \u001b[0ml\u001b[0m\u001b[0;34m=\u001b[0m\u001b[0mmap\u001b[0m\u001b[0;34m(\u001b[0m\u001b[0mfun\u001b[0m\u001b[0;34m,\u001b[0m\u001b[0;34m\"python\"\u001b[0m\u001b[0;34m,\u001b[0m\u001b[0;34m\"program\"\u001b[0m\u001b[0;34m)\u001b[0m\u001b[0;34m\u001b[0m\u001b[0m\n",
        "\u001b[0;31mTypeError\u001b[0m: unsupported operand type(s) for +: 'NoneType' and 'str'"
       ]
      }
     ],
     "prompt_number": 23
    },
    {
     "cell_type": "code",
     "collapsed": false,
     "input": [
      "l1=[1,2,3,4]\n",
      "l2=[5,6,7,8]\n",
      "def fun(x,y):\n",
      "    if not x:\n",
      "        x=\"\"\n",
      "    if not y:\n",
      "        y=\"\"\n",
      "    print \"x=%s, y=%s\"%(x,y)\n",
      "    print x+y\n",
      "    return x+y\n",
      "l=map(fun,\"python\",\"program\")\n",
      "print l"
     ],
     "language": "python",
     "metadata": {},
     "outputs": [
      {
       "output_type": "stream",
       "stream": "stdout",
       "text": [
        "x=p, y=p\n",
        "pp\n",
        "x=y, y=r\n",
        "yr\n",
        "x=t, y=o\n",
        "to\n",
        "x=h, y=g\n",
        "hg\n",
        "x=o, y=r\n",
        "or\n",
        "x=n, y=a\n",
        "na\n",
        "x=, y=m\n",
        "m\n",
        "['pp', 'yr', 'to', 'hg', 'or', 'na', 'm']\n"
       ]
      }
     ],
     "prompt_number": 24
    },
    {
     "cell_type": "code",
     "collapsed": false,
     "input": [
      "l1=[1,2,3,4]\n",
      "l2=[5,6,7,8]\n",
      "def fun(x=\"\",y=\"\"):\n",
      "    print \"x=%s, y=%s\"%(x,y)\n",
      "    print x+y\n",
      "    return x+y\n",
      "l=map(fun,\"python\",\"program\")\n",
      "print l"
     ],
     "language": "python",
     "metadata": {},
     "outputs": [
      {
       "output_type": "stream",
       "stream": "stdout",
       "text": [
        "x=p, y=p\n",
        "pp\n",
        "x=y, y=r\n",
        "yr\n",
        "x=t, y=o\n",
        "to\n",
        "x=h, y=g\n",
        "hg\n",
        "x=o, y=r\n",
        "or\n",
        "x=n, y=a\n",
        "na\n",
        "x=None, y=m\n"
       ]
      },
      {
       "ename": "TypeError",
       "evalue": "unsupported operand type(s) for +: 'NoneType' and 'str'",
       "output_type": "pyerr",
       "traceback": [
        "\u001b[0;31m---------------------------------------------------------------------------\u001b[0m",
        "\u001b[0;31mTypeError\u001b[0m                                 Traceback (most recent call last)",
        "\u001b[0;32m<ipython-input-25-a3bd111aa297>\u001b[0m in \u001b[0;36m<module>\u001b[0;34m()\u001b[0m\n\u001b[1;32m      5\u001b[0m     \u001b[0;32mprint\u001b[0m \u001b[0mx\u001b[0m\u001b[0;34m+\u001b[0m\u001b[0my\u001b[0m\u001b[0;34m\u001b[0m\u001b[0m\n\u001b[1;32m      6\u001b[0m     \u001b[0;32mreturn\u001b[0m \u001b[0mx\u001b[0m\u001b[0;34m+\u001b[0m\u001b[0my\u001b[0m\u001b[0;34m\u001b[0m\u001b[0m\n\u001b[0;32m----> 7\u001b[0;31m \u001b[0ml\u001b[0m\u001b[0;34m=\u001b[0m\u001b[0mmap\u001b[0m\u001b[0;34m(\u001b[0m\u001b[0mfun\u001b[0m\u001b[0;34m,\u001b[0m\u001b[0;34m\"python\"\u001b[0m\u001b[0;34m,\u001b[0m\u001b[0;34m\"program\"\u001b[0m\u001b[0;34m)\u001b[0m\u001b[0;34m\u001b[0m\u001b[0m\n\u001b[0m\u001b[1;32m      8\u001b[0m \u001b[0;32mprint\u001b[0m \u001b[0ml\u001b[0m\u001b[0;34m\u001b[0m\u001b[0m\n",
        "\u001b[0;32m<ipython-input-25-a3bd111aa297>\u001b[0m in \u001b[0;36mfun\u001b[0;34m(x, y)\u001b[0m\n\u001b[1;32m      3\u001b[0m \u001b[0;32mdef\u001b[0m \u001b[0mfun\u001b[0m\u001b[0;34m(\u001b[0m\u001b[0mx\u001b[0m\u001b[0;34m=\u001b[0m\u001b[0;34m\"\"\u001b[0m\u001b[0;34m,\u001b[0m\u001b[0my\u001b[0m\u001b[0;34m=\u001b[0m\u001b[0;34m\"\"\u001b[0m\u001b[0;34m)\u001b[0m\u001b[0;34m:\u001b[0m\u001b[0;34m\u001b[0m\u001b[0m\n\u001b[1;32m      4\u001b[0m     \u001b[0;32mprint\u001b[0m \u001b[0;34m\"x=%s, y=%s\"\u001b[0m\u001b[0;34m%\u001b[0m\u001b[0;34m(\u001b[0m\u001b[0mx\u001b[0m\u001b[0;34m,\u001b[0m\u001b[0my\u001b[0m\u001b[0;34m)\u001b[0m\u001b[0;34m\u001b[0m\u001b[0m\n\u001b[0;32m----> 5\u001b[0;31m     \u001b[0;32mprint\u001b[0m \u001b[0mx\u001b[0m\u001b[0;34m+\u001b[0m\u001b[0my\u001b[0m\u001b[0;34m\u001b[0m\u001b[0m\n\u001b[0m\u001b[1;32m      6\u001b[0m     \u001b[0;32mreturn\u001b[0m \u001b[0mx\u001b[0m\u001b[0;34m+\u001b[0m\u001b[0my\u001b[0m\u001b[0;34m\u001b[0m\u001b[0m\n\u001b[1;32m      7\u001b[0m \u001b[0ml\u001b[0m\u001b[0;34m=\u001b[0m\u001b[0mmap\u001b[0m\u001b[0;34m(\u001b[0m\u001b[0mfun\u001b[0m\u001b[0;34m,\u001b[0m\u001b[0;34m\"python\"\u001b[0m\u001b[0;34m,\u001b[0m\u001b[0;34m\"program\"\u001b[0m\u001b[0;34m)\u001b[0m\u001b[0;34m\u001b[0m\u001b[0m\n",
        "\u001b[0;31mTypeError\u001b[0m: unsupported operand type(s) for +: 'NoneType' and 'str'"
       ]
      }
     ],
     "prompt_number": 25
    },
    {
     "cell_type": "code",
     "collapsed": false,
     "input": [
      "zip(\"python\",\"progra\")"
     ],
     "language": "python",
     "metadata": {},
     "outputs": [
      {
       "metadata": {},
       "output_type": "pyout",
       "prompt_number": 26,
       "text": [
        "[('p', 'p'), ('y', 'r'), ('t', 'o'), ('h', 'g'), ('o', 'r'), ('n', 'a')]"
       ]
      }
     ],
     "prompt_number": 26
    },
    {
     "cell_type": "code",
     "collapsed": false,
     "input": [
      "zip(\"python\",\"program\")"
     ],
     "language": "python",
     "metadata": {},
     "outputs": [
      {
       "metadata": {},
       "output_type": "pyout",
       "prompt_number": 27,
       "text": [
        "[('p', 'p'), ('y', 'r'), ('t', 'o'), ('h', 'g'), ('o', 'r'), ('n', 'a')]"
       ]
      }
     ],
     "prompt_number": 27
    },
    {
     "cell_type": "code",
     "collapsed": false,
     "input": [
      "# list comprehension?\n",
      "l1=[1,2,3,4]\n",
      "l2=[5,6,7,8]\n",
      "def fun(x,y):\n",
      "    return x+y\n",
      "res=[]\n",
      "for i,j in zip(l1,l2):\n",
      "    res.append(i+j)\n",
      "\n",
      "print res"
     ],
     "language": "python",
     "metadata": {},
     "outputs": [
      {
       "output_type": "stream",
       "stream": "stdout",
       "text": [
        "[6, 8, 10, 12]\n"
       ]
      }
     ],
     "prompt_number": 28
    },
    {
     "cell_type": "code",
     "collapsed": false,
     "input": [
      "# list comprehension?\n",
      "l1=[1,2,3,4]\n",
      "l2=[5,6,7,8]\n",
      "print [i+j for i,j in zip(l1,l2)]"
     ],
     "language": "python",
     "metadata": {},
     "outputs": [
      {
       "output_type": "stream",
       "stream": "stdout",
       "text": [
        "[6, 8, 10, 12]\n"
       ]
      }
     ],
     "prompt_number": 29
    },
    {
     "cell_type": "code",
     "collapsed": false,
     "input": [
      "# list comprehension?\n",
      "l1=[1,2,3,4]\n",
      "l2=[5,6,7,8]\n",
      "def fun(x,y):\n",
      "    return x+y\n",
      "print [fun(i,j) for i,j in zip(l1,l2)]"
     ],
     "language": "python",
     "metadata": {},
     "outputs": [
      {
       "output_type": "stream",
       "stream": "stdout",
       "text": [
        "[6, 8, 10, 12]\n"
       ]
      }
     ],
     "prompt_number": 30
    },
    {
     "cell_type": "code",
     "collapsed": false,
     "input": [
      "# list comprehension?\n",
      "l1=[1,2,3,4]\n",
      "l2=[5,6,7,8]\n",
      "def fun(x,y):\n",
      "    print  x+y\n",
      "print [fun(i,j) for i,j in zip(l1,l2)]"
     ],
     "language": "python",
     "metadata": {},
     "outputs": [
      {
       "output_type": "stream",
       "stream": "stdout",
       "text": [
        "6\n",
        "8\n",
        "10\n",
        "12\n",
        "[None, None, None, None]\n"
       ]
      }
     ],
     "prompt_number": 31
    },
    {
     "cell_type": "code",
     "collapsed": false,
     "input": [
      "# list comprehension?\n",
      "l1=[1,2,3,4,'python']\n",
      "l2=[5,6,7,8,9]\n",
      "print [i+j for i,j in zip(l1,l2)]"
     ],
     "language": "python",
     "metadata": {},
     "outputs": [
      {
       "ename": "TypeError",
       "evalue": "cannot concatenate 'str' and 'int' objects",
       "output_type": "pyerr",
       "traceback": [
        "\u001b[0;31m---------------------------------------------------------------------------\u001b[0m",
        "\u001b[0;31mTypeError\u001b[0m                                 Traceback (most recent call last)",
        "\u001b[0;32m<ipython-input-32-e163ad4f196b>\u001b[0m in \u001b[0;36m<module>\u001b[0;34m()\u001b[0m\n\u001b[1;32m      2\u001b[0m \u001b[0ml1\u001b[0m\u001b[0;34m=\u001b[0m\u001b[0;34m[\u001b[0m\u001b[0;36m1\u001b[0m\u001b[0;34m,\u001b[0m\u001b[0;36m2\u001b[0m\u001b[0;34m,\u001b[0m\u001b[0;36m3\u001b[0m\u001b[0;34m,\u001b[0m\u001b[0;36m4\u001b[0m\u001b[0;34m,\u001b[0m\u001b[0;34m'python'\u001b[0m\u001b[0;34m]\u001b[0m\u001b[0;34m\u001b[0m\u001b[0m\n\u001b[1;32m      3\u001b[0m \u001b[0ml2\u001b[0m\u001b[0;34m=\u001b[0m\u001b[0;34m[\u001b[0m\u001b[0;36m5\u001b[0m\u001b[0;34m,\u001b[0m\u001b[0;36m6\u001b[0m\u001b[0;34m,\u001b[0m\u001b[0;36m7\u001b[0m\u001b[0;34m,\u001b[0m\u001b[0;36m8\u001b[0m\u001b[0;34m,\u001b[0m\u001b[0;36m9\u001b[0m\u001b[0;34m]\u001b[0m\u001b[0;34m\u001b[0m\u001b[0m\n\u001b[0;32m----> 4\u001b[0;31m \u001b[0;32mprint\u001b[0m \u001b[0;34m[\u001b[0m\u001b[0mi\u001b[0m\u001b[0;34m+\u001b[0m\u001b[0mj\u001b[0m \u001b[0;32mfor\u001b[0m \u001b[0mi\u001b[0m\u001b[0;34m,\u001b[0m\u001b[0mj\u001b[0m \u001b[0;32min\u001b[0m \u001b[0mzip\u001b[0m\u001b[0;34m(\u001b[0m\u001b[0ml1\u001b[0m\u001b[0;34m,\u001b[0m\u001b[0ml2\u001b[0m\u001b[0;34m)\u001b[0m\u001b[0;34m]\u001b[0m\u001b[0;34m\u001b[0m\u001b[0m\n\u001b[0m",
        "\u001b[0;31mTypeError\u001b[0m: cannot concatenate 'str' and 'int' objects"
       ]
      }
     ],
     "prompt_number": 32
    },
    {
     "cell_type": "code",
     "collapsed": false,
     "input": [
      "# list comprehension?\n",
      "l1=[1,2,3,4]\n",
      "l2=[5,6,7,8]\n",
      "def fun(x,y):\n",
      "    return x+y\n",
      "res=[]\n",
      "for i,j in zip(l1,l2):\n",
      "    if isinstance(i,int) or isinstance(i,float):\n",
      "        res.append(i+j)\n",
      "\n",
      "print res"
     ],
     "language": "python",
     "metadata": {},
     "outputs": [
      {
       "output_type": "stream",
       "stream": "stdout",
       "text": [
        "[6, 8, 10, 12]\n"
       ]
      }
     ],
     "prompt_number": 33
    },
    {
     "cell_type": "code",
     "collapsed": false,
     "input": [
      "# list comprehension?\n",
      "l1=[1,2,3,4,'python']\n",
      "l2=[5,6,7,8,9]\n",
      "print [i+j for i,j in zip(l1,l2) if isinstance(i,int) or isinstance(i,float)]"
     ],
     "language": "python",
     "metadata": {},
     "outputs": [
      {
       "output_type": "stream",
       "stream": "stdout",
       "text": [
        "[6, 8, 10, 12]\n"
       ]
      }
     ],
     "prompt_number": 34
    },
    {
     "cell_type": "code",
     "collapsed": false,
     "input": [
      "a=int(raw_input(\"Enter a number:\"))\n",
      "if a>=0:\n",
      "    b=\"positive\"\n",
      "else:\n",
      "    b=\"negative\"\n",
      "print b\n",
      "    "
     ],
     "language": "python",
     "metadata": {},
     "outputs": [
      {
       "output_type": "stream",
       "stream": "stdout",
       "text": [
        "Enter a number:-12\n",
        "negative\n"
       ]
      }
     ],
     "prompt_number": 36
    },
    {
     "cell_type": "code",
     "collapsed": false,
     "input": [
      "a=int(raw_input(\"Enter a number:\"))\n",
      "b=\"positive\" if a>=0 else \"negative\"\n",
      "print b\n",
      "    "
     ],
     "language": "python",
     "metadata": {},
     "outputs": [
      {
       "output_type": "stream",
       "stream": "stdout",
       "text": [
        "Enter a number:12\n",
        "positive\n"
       ]
      }
     ],
     "prompt_number": 37
    },
    {
     "cell_type": "code",
     "collapsed": false,
     "input": [
      "a=int(raw_input(\"Enter a number:\"))\n",
      "b=\"positive\" if a>=0 else \"negative\"\n",
      "print b\n",
      "    "
     ],
     "language": "python",
     "metadata": {},
     "outputs": [
      {
       "output_type": "stream",
       "stream": "stdout",
       "text": [
        "Enter a number:-12\n",
        "negative\n"
       ]
      }
     ],
     "prompt_number": 38
    },
    {
     "cell_type": "code",
     "collapsed": false,
     "input": [
      "# list comprehension?\n",
      "l1=[1,2,3,4,'python']\n",
      "l2=[5,6,7,8,9]\n",
      "def fun(x,y):\n",
      "    return x+y\n",
      "res=[]\n",
      "for i,j in zip(l1,l2):\n",
      "    if isinstance(i,int) or isinstance(i,float):\n",
      "        res.append(i+j)\n",
      "\n",
      "print res"
     ],
     "language": "python",
     "metadata": {},
     "outputs": [
      {
       "output_type": "stream",
       "stream": "stdout",
       "text": [
        "[6, 8, 10, 12]\n"
       ]
      }
     ],
     "prompt_number": 39
    },
    {
     "cell_type": "code",
     "collapsed": false,
     "input": [
      "# list comprehension?\n",
      "l1=[1,2,3,4,'python']\n",
      "l2=[5,6,7,8,9]\n",
      "def fun(x,y):\n",
      "    return x+y\n",
      "res=[]\n",
      "for i,j in zip(l1,l2):\n",
      "    if isinstance(i,int) or isinstance(i,float):\n",
      "        res.append(i+j)\n",
      "    else:\n",
      "        pass\n",
      "        \n",
      "\n",
      "print res"
     ],
     "language": "python",
     "metadata": {},
     "outputs": [
      {
       "output_type": "stream",
       "stream": "stdout",
       "text": [
        "[6, 8, 10, 12]\n"
       ]
      }
     ],
     "prompt_number": 41
    },
    {
     "cell_type": "code",
     "collapsed": false,
     "input": [
      "# list comprehension?\n",
      "l1=[1,2,3,4,9]\n",
      "l2=[5,6,7,8,\"10\"]\n",
      "def fun(x,y):\n",
      "    return x+y\n",
      "res=[]\n",
      "for i,j in zip(l1,l2):\n",
      "    if isinstance(i,int) or isinstance(i,float):\n",
      "        res.append(i+j)\n",
      "    else:\n",
      "        pass\n",
      "        \n",
      "\n",
      "print res"
     ],
     "language": "python",
     "metadata": {},
     "outputs": [
      {
       "ename": "TypeError",
       "evalue": "unsupported operand type(s) for +: 'int' and 'str'",
       "output_type": "pyerr",
       "traceback": [
        "\u001b[0;31m---------------------------------------------------------------------------\u001b[0m",
        "\u001b[0;31mTypeError\u001b[0m                                 Traceback (most recent call last)",
        "\u001b[0;32m<ipython-input-42-ea41b15484b8>\u001b[0m in \u001b[0;36m<module>\u001b[0;34m()\u001b[0m\n\u001b[1;32m      7\u001b[0m \u001b[0;32mfor\u001b[0m \u001b[0mi\u001b[0m\u001b[0;34m,\u001b[0m\u001b[0mj\u001b[0m \u001b[0;32min\u001b[0m \u001b[0mzip\u001b[0m\u001b[0;34m(\u001b[0m\u001b[0ml1\u001b[0m\u001b[0;34m,\u001b[0m\u001b[0ml2\u001b[0m\u001b[0;34m)\u001b[0m\u001b[0;34m:\u001b[0m\u001b[0;34m\u001b[0m\u001b[0m\n\u001b[1;32m      8\u001b[0m     \u001b[0;32mif\u001b[0m \u001b[0misinstance\u001b[0m\u001b[0;34m(\u001b[0m\u001b[0mi\u001b[0m\u001b[0;34m,\u001b[0m\u001b[0mint\u001b[0m\u001b[0;34m)\u001b[0m \u001b[0;32mor\u001b[0m \u001b[0misinstance\u001b[0m\u001b[0;34m(\u001b[0m\u001b[0mi\u001b[0m\u001b[0;34m,\u001b[0m\u001b[0mfloat\u001b[0m\u001b[0;34m)\u001b[0m\u001b[0;34m:\u001b[0m\u001b[0;34m\u001b[0m\u001b[0m\n\u001b[0;32m----> 9\u001b[0;31m         \u001b[0mres\u001b[0m\u001b[0;34m.\u001b[0m\u001b[0mappend\u001b[0m\u001b[0;34m(\u001b[0m\u001b[0mi\u001b[0m\u001b[0;34m+\u001b[0m\u001b[0mj\u001b[0m\u001b[0;34m)\u001b[0m\u001b[0;34m\u001b[0m\u001b[0m\n\u001b[0m\u001b[1;32m     10\u001b[0m     \u001b[0;32melse\u001b[0m\u001b[0;34m:\u001b[0m\u001b[0;34m\u001b[0m\u001b[0m\n\u001b[1;32m     11\u001b[0m         \u001b[0;32mpass\u001b[0m\u001b[0;34m\u001b[0m\u001b[0m\n",
        "\u001b[0;31mTypeError\u001b[0m: unsupported operand type(s) for +: 'int' and 'str'"
       ]
      }
     ],
     "prompt_number": 42
    },
    {
     "cell_type": "code",
     "collapsed": false,
     "input": [
      "# list comprehension?\n",
      "l1=[1,2,3,4,9]\n",
      "l2=[5,6,7,8,\"10\"]\n",
      "def fun(x,y):\n",
      "    return x+y\n",
      "res=[]\n",
      "for i,j in zip(l1,l2):\n",
      "    if (isinstance(i,int) or isinstance(i,float)) and \\\n",
      "    (isinstance(j,int) or isinstance(j,float)):\n",
      "        res.append(i+j)\n",
      "    else:\n",
      "        pass\n",
      "        \n",
      "\n",
      "print res"
     ],
     "language": "python",
     "metadata": {},
     "outputs": [
      {
       "output_type": "stream",
       "stream": "stdout",
       "text": [
        "[6, 8, 10, 12]\n"
       ]
      }
     ],
     "prompt_number": 44
    },
    {
     "cell_type": "code",
     "collapsed": false,
     "input": [
      "# list comprehension?\n",
      "l1=[1,2,3,4,9]\n",
      "l2=[5,6,7,8,\"10\"]\n",
      "def fun(x,y):\n",
      "    return x+y\n",
      "res=[]\n",
      "for i,j in zip(l1,l2):\n",
      "    if (isinstance(i,int) or isinstance(i,float)) and \\\n",
      "    (isinstance(j,int) or isinstance(j,float)):\n",
      "        res.append(i+j)\n",
      "    else:\n",
      "        res.append(0)\n",
      "        \n",
      "\n",
      "print res"
     ],
     "language": "python",
     "metadata": {},
     "outputs": [
      {
       "output_type": "stream",
       "stream": "stdout",
       "text": [
        "[6, 8, 10, 12, 0]\n"
       ]
      }
     ],
     "prompt_number": 45
    },
    {
     "cell_type": "code",
     "collapsed": false,
     "input": [
      "# list comprehension?\n",
      "l1=[1,2,3,4,'python']\n",
      "l2=[5,6,7,8,'9']\n",
      "print [i+j if True else 0 for i,j in zip(l1,l2)]"
     ],
     "language": "python",
     "metadata": {},
     "outputs": [
      {
       "output_type": "stream",
       "stream": "stdout",
       "text": [
        "[6, 8, 10, 12, 'python9']\n"
       ]
      }
     ],
     "prompt_number": 46
    },
    {
     "cell_type": "code",
     "collapsed": false,
     "input": [
      "# list comprehension?\n",
      "l1=[1,2,3,4,'python']\n",
      "l2=[5,6,7,8,'9']\n",
      "print [i+j if False else 0 for i,j in zip(l1,l2)]"
     ],
     "language": "python",
     "metadata": {},
     "outputs": [
      {
       "output_type": "stream",
       "stream": "stdout",
       "text": [
        "[0, 0, 0, 0, 0]\n"
       ]
      }
     ],
     "prompt_number": 47
    },
    {
     "cell_type": "code",
     "collapsed": false,
     "input": [
      "# list comprehension?\n",
      "l1=[1,2,3,4,'python']\n",
      "l2=[5,6,7,8,'9']\n",
      "print [i+j if (isinstance(i,int) or isinstance(i,float)) and \\\n",
      "       (isinstance(j,int) or isinstance(j,float)) else 0 \n",
      "       for i,j in zip(l1,l2)]"
     ],
     "language": "python",
     "metadata": {},
     "outputs": [
      {
       "output_type": "stream",
       "stream": "stdout",
       "text": [
        "[6, 8, 10, 12, 0]\n"
       ]
      }
     ],
     "prompt_number": 49
    },
    {
     "cell_type": "code",
     "collapsed": false,
     "input": [
      "l=[2,-4,5,6,7]\n",
      "print [i+10 for i in l]"
     ],
     "language": "python",
     "metadata": {},
     "outputs": [
      {
       "output_type": "stream",
       "stream": "stdout",
       "text": [
        "[12, 6, 15, 16, 17]\n"
       ]
      }
     ],
     "prompt_number": 50
    },
    {
     "cell_type": "code",
     "collapsed": false,
     "input": [
      "l=[2,-4,5,6,7]\n",
      "print (i+10 for i in l)"
     ],
     "language": "python",
     "metadata": {},
     "outputs": [
      {
       "output_type": "stream",
       "stream": "stdout",
       "text": [
        "<generator object <genexpr> at 0x7f830caf4460>\n"
       ]
      }
     ],
     "prompt_number": 51
    },
    {
     "cell_type": "code",
     "collapsed": true,
     "input": [],
     "language": "python",
     "metadata": {},
     "outputs": [],
     "prompt_number": null
    }
   ],
   "metadata": {}
  }
 ]
}