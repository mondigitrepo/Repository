{
 "metadata": {
  "name": "",
  "signature": "sha256:c51fff4c001a3ba11db9e88701e855f7c97eb2b71c9a62b1722b75ccec22f1f7"
 },
 "nbformat": 3,
 "nbformat_minor": 0,
 "worksheets": [
  {
   "cells": [
    {
     "cell_type": "code",
     "collapsed": false,
     "input": [
      "print \"1) s.capitalize() function\"\n",
      "s = raw_input(\"enter a string : \")\n",
      "print \"s.capitalize() ---> \",s.capitalize()"
     ],
     "language": "python",
     "metadata": {},
     "outputs": [
      {
       "output_type": "stream",
       "stream": "stdout",
       "text": [
        "1) s.capitalize() function\n"
       ]
      },
      {
       "name": "stdout",
       "output_type": "stream",
       "stream": "stdout",
       "text": [
        "enter a string : thiS IS A pyTHon ProgrAM\n"
       ]
      },
      {
       "output_type": "stream",
       "stream": "stdout",
       "text": [
        "s.capitalize() --->  This is a python program\n"
       ]
      }
     ],
     "prompt_number": 1
    },
    {
     "cell_type": "code",
     "collapsed": false,
     "input": [
      "print \"2) s.lower() function\"\n",
      "s = raw_input(\"enter a string : \")\n",
      "print \"s.lower() ---> \",s.lower()"
     ],
     "language": "python",
     "metadata": {},
     "outputs": [
      {
       "output_type": "stream",
       "stream": "stdout",
       "text": [
        "2) s.lower() function\n"
       ]
      },
      {
       "name": "stdout",
       "output_type": "stream",
       "stream": "stdout",
       "text": [
        "enter a string : THIS IS A PYTHON PROGRAM\n"
       ]
      },
      {
       "output_type": "stream",
       "stream": "stdout",
       "text": [
        "s.lower() --->  this is a python program\n"
       ]
      }
     ],
     "prompt_number": 3
    },
    {
     "cell_type": "code",
     "collapsed": false,
     "input": [
      "print \"3) s.upper() function\"\n",
      "s = raw_input(\"enter a string : \")\n",
      "print \"s.upper() ---> \",s.upper()"
     ],
     "language": "python",
     "metadata": {},
     "outputs": [
      {
       "output_type": "stream",
       "stream": "stdout",
       "text": [
        "3) s.upper() function\n"
       ]
      },
      {
       "name": "stdout",
       "output_type": "stream",
       "stream": "stdout",
       "text": [
        "enter a string : this is a python program\n"
       ]
      },
      {
       "output_type": "stream",
       "stream": "stdout",
       "text": [
        "s.upper() --->  THIS IS A PYTHON PROGRAM\n"
       ]
      }
     ],
     "prompt_number": 5
    },
    {
     "cell_type": "code",
     "collapsed": false,
     "input": [
      "print \"3) s.replace() function\"\n",
      "s = raw_input(\"enter a string : \")\n",
      "print \"s.replace() ---> \",s.replace(\"P\" , \"S\")"
     ],
     "language": "python",
     "metadata": {},
     "outputs": [
      {
       "output_type": "stream",
       "stream": "stdout",
       "text": [
        " 3) s.replace() function\n"
       ]
      },
      {
       "name": "stdout",
       "output_type": "stream",
       "stream": "stdout",
       "text": [
        "enter a string : This is a Python Program\n"
       ]
      },
      {
       "output_type": "stream",
       "stream": "stdout",
       "text": [
        "s.replace() --->  This is a Sython Srogram\n"
       ]
      }
     ],
     "prompt_number": 7
    },
    {
     "cell_type": "code",
     "collapsed": false,
     "input": [
      "print \"3) s.split() function\"\n",
      "s = raw_input(\"enter a string : \")\n",
      "print \"s.split() ---> \",s.split()"
     ],
     "language": "python",
     "metadata": {},
     "outputs": [
      {
       "output_type": "stream",
       "stream": "stdout",
       "text": [
        "3) s.split() function\n"
       ]
      },
      {
       "name": "stdout",
       "output_type": "stream",
       "stream": "stdout",
       "text": [
        "enter a string : This is a python program\n"
       ]
      },
      {
       "output_type": "stream",
       "stream": "stdout",
       "text": [
        "s.split() --->  ['This', 'is', 'a', 'python', 'program']\n"
       ]
      }
     ],
     "prompt_number": 10
    },
    {
     "cell_type": "code",
     "collapsed": false,
     "input": [
      "print \"3) s.split() function\"\n",
      "s = raw_input(\"enter a string : \")\n",
      "print \"s.split() ---> \",s.split(\"p\")"
     ],
     "language": "python",
     "metadata": {},
     "outputs": [
      {
       "output_type": "stream",
       "stream": "stdout",
       "text": [
        "3) s.split() function\n"
       ]
      },
      {
       "name": "stdout",
       "output_type": "stream",
       "stream": "stdout",
       "text": [
        "enter a string : This is a python program eleventh example please go through this program\n"
       ]
      },
      {
       "output_type": "stream",
       "stream": "stdout",
       "text": [
        "s.split() --->  ['This is a ', 'ython ', 'rogram eleventh exam', 'le ', 'lease go through this ', 'rogram']\n"
       ]
      }
     ],
     "prompt_number": 12
    },
    {
     "cell_type": "code",
     "collapsed": false,
     "input": [],
     "language": "python",
     "metadata": {},
     "outputs": []
    }
   ],
   "metadata": {}
  }
 ]
}