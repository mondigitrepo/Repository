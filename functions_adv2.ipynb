{
 "metadata": {
  "kernelspec": {
   "display_name": "Python 2",
   "language": "python",
   "name": "python2"
  },
  "language_info": {
   "codemirror_mode": {
    "name": "ipython",
    "version": 2
   },
   "file_extension": ".py",
   "mimetype": "text/x-python",
   "name": "python",
   "nbconvert_exporter": "python",
   "pygments_lexer": "ipython2",
   "version": "2.7.13"
  },
  "name": "",
  "signature": "sha256:bfec0258c377d76e4e8a857ba9a0a81165dd19725445afa303b183a59147ac3a"
 },
 "nbformat": 3,
 "nbformat_minor": 0,
 "worksheets": [
  {
   "cells": [
    {
     "cell_type": "code",
     "collapsed": true,
     "input": [
      "def fun(a,b):                                         #10/6/2017\n",
      "    return a+b\n",
      "f=lambda x,y:x+y                       #annonymous function: is the one whcin function definiton doesnot contain the name\n",
      "                                    #ie one function that to return function"
     ],
     "language": "python",
     "metadata": {},
     "outputs": [],
     "prompt_number": 1
    },
    {
     "cell_type": "code",
     "collapsed": false,
     "input": [
      "type(fun)        #type of fun is function"
     ],
     "language": "python",
     "metadata": {},
     "outputs": [
      {
       "metadata": {},
       "output_type": "pyout",
       "prompt_number": 2,
       "text": [
        "function"
       ]
      }
     ],
     "prompt_number": 2
    },
    {
     "cell_type": "code",
     "collapsed": false,
     "input": [
      "type(f)         #type of f is fucntion eventhough we didnt declare"
     ],
     "language": "python",
     "metadata": {},
     "outputs": [
      {
       "metadata": {},
       "output_type": "pyout",
       "prompt_number": 3,
       "text": [
        "function"
       ]
      }
     ],
     "prompt_number": 3
    },
    {
     "cell_type": "code",
     "collapsed": false,
     "input": [
      "f(10,20)"
     ],
     "language": "python",
     "metadata": {},
     "outputs": [
      {
       "metadata": {},
       "output_type": "pyout",
       "prompt_number": 4,
       "text": [
        "30"
       ]
      }
     ],
     "prompt_number": 4
    },
    {
     "cell_type": "code",
     "collapsed": false,
     "input": [
      "f(100,200)"
     ],
     "language": "python",
     "metadata": {},
     "outputs": [
      {
       "metadata": {},
       "output_type": "pyout",
       "prompt_number": 5,
       "text": [
        "300"
       ]
      }
     ],
     "prompt_number": 5
    },
    {
     "cell_type": "code",
     "collapsed": false,
     "input": [
      "l1=[1,2,3,4]\n",
      "l2=[5,6,7,8]\n",
      "def add(a,b):\n",
      "    return a+b\n",
      "print map(add,l1,l2)   #map:here in map we can use function call and argumants at a time"
     ],
     "language": "python",
     "metadata": {},
     "outputs": [
      {
       "output_type": "stream",
       "stream": "stdout",
       "text": [
        "[6, 8, 10, 12]\n"
       ]
      }
     ],
     "prompt_number": 6
    },
    {
     "cell_type": "code",
     "collapsed": false,
     "input": [
      "l1=[1,2,3,4]\n",
      "l2=[5,6,7,8]\n",
      "print map(lambda x,y:x+y,l1,l2)  #the above lines 3 and 4 were replaced by lambda x,y:X+y\n",
      "                                #here x,y are arguments and x+y is return statement"
     ],
     "language": "python",
     "metadata": {},
     "outputs": [
      {
       "output_type": "stream",
       "stream": "stdout",
       "text": [
        "[6, 8, 10, 12]\n"
       ]
      }
     ],
     "prompt_number": 7
    },
    {
     "cell_type": "code",
     "collapsed": false,
     "input": [
      "def add(a,b,c):\n",
      "    print \"a=%s,b=%s,c=%s\"%(a,b,c)\n",
      "    return a+b+c                        \n",
      "print add(10,20,30)"
     ],
     "language": "python",
     "metadata": {},
     "outputs": [
      {
       "output_type": "stream",
       "stream": "stdout",
       "text": [
        "a=10,b=20,c=30\n",
        "60\n"
       ]
      }
     ],
     "prompt_number": 8
    },
    {
     "cell_type": "code",
     "collapsed": false,
     "input": [
      "print add(10,20,30,40)"
     ],
     "language": "python",
     "metadata": {},
     "outputs": [
      {
       "ename": "TypeError",
       "evalue": "add() takes exactly 3 arguments (4 given)",
       "output_type": "pyerr",
       "traceback": [
        "\u001b[0;31m---------------------------------------------------------------------------\u001b[0m",
        "\u001b[0;31mTypeError\u001b[0m                                 Traceback (most recent call last)",
        "\u001b[0;32m<ipython-input-9-90592c8ca092>\u001b[0m in \u001b[0;36m<module>\u001b[0;34m()\u001b[0m\n\u001b[0;32m----> 1\u001b[0;31m \u001b[0;32mprint\u001b[0m \u001b[0madd\u001b[0m\u001b[0;34m(\u001b[0m\u001b[0;36m10\u001b[0m\u001b[0;34m,\u001b[0m\u001b[0;36m20\u001b[0m\u001b[0;34m,\u001b[0m\u001b[0;36m30\u001b[0m\u001b[0;34m,\u001b[0m\u001b[0;36m40\u001b[0m\u001b[0;34m)\u001b[0m\u001b[0;34m\u001b[0m\u001b[0m\n\u001b[0m",
        "\u001b[0;31mTypeError\u001b[0m: add() takes exactly 3 arguments (4 given)"
       ]
      }
     ],
     "prompt_number": 9
    },
    {
     "cell_type": "code",
     "collapsed": false,
     "input": [
      "def add(a,b,c=0,d=0,e=0):                             #default argumants concept\n",
      "    print \"a=%s,b=%s,c=%s,d=%s,e=%s\"%(a,b,c,d,e)\n",
      "    return a+b+c\n",
      "print add(10,20,30)\n",
      "print add(10,20)\n",
      "print add(10,20,30,40,50)                            #here first three print statements were execute,hte fourth statement throws error as add takes atmost 5 args but we are giving 6,\n",
      "print add(10,20,30,40,50,60)                         #the fifth print statement throws error as add takes atleast 2 args b is mandatory paramenter\n",
      "print add(a=30,d=40)                                  # the sixth print statement gives ok that concept is keyword aarguments\n",
      "print add(a=10,b=20,e=50)"
     ],
     "language": "python",
     "metadata": {},
     "outputs": [
      {
       "output_type": "stream",
       "stream": "stdout",
       "text": [
        "a=10,b=20,c=30,d=0,e=0\n",
        "60\n",
        "a=10,b=20,c=0,d=0,e=0\n",
        "30\n",
        "a=10,b=20,c=30,d=40,e=50\n",
        "60\n"
       ]
      },
      {
       "ename": "TypeError",
       "evalue": "add() takes at most 5 arguments (6 given)",
       "output_type": "pyerr",
       "traceback": [
        "\u001b[0;31m---------------------------------------------------------------------------\u001b[0m",
        "\u001b[0;31mTypeError\u001b[0m                                 Traceback (most recent call last)",
        "\u001b[0;32m<ipython-input-10-693b660bc21c>\u001b[0m in \u001b[0;36m<module>\u001b[0;34m()\u001b[0m\n\u001b[1;32m      5\u001b[0m \u001b[0;32mprint\u001b[0m \u001b[0madd\u001b[0m\u001b[0;34m(\u001b[0m\u001b[0;36m10\u001b[0m\u001b[0;34m,\u001b[0m\u001b[0;36m20\u001b[0m\u001b[0;34m)\u001b[0m\u001b[0;34m\u001b[0m\u001b[0m\n\u001b[1;32m      6\u001b[0m \u001b[0;32mprint\u001b[0m \u001b[0madd\u001b[0m\u001b[0;34m(\u001b[0m\u001b[0;36m10\u001b[0m\u001b[0;34m,\u001b[0m\u001b[0;36m20\u001b[0m\u001b[0;34m,\u001b[0m\u001b[0;36m30\u001b[0m\u001b[0;34m,\u001b[0m\u001b[0;36m40\u001b[0m\u001b[0;34m,\u001b[0m\u001b[0;36m50\u001b[0m\u001b[0;34m)\u001b[0m\u001b[0;34m\u001b[0m\u001b[0m\n\u001b[0;32m----> 7\u001b[0;31m \u001b[0;32mprint\u001b[0m \u001b[0madd\u001b[0m\u001b[0;34m(\u001b[0m\u001b[0;36m10\u001b[0m\u001b[0;34m,\u001b[0m\u001b[0;36m20\u001b[0m\u001b[0;34m,\u001b[0m\u001b[0;36m30\u001b[0m\u001b[0;34m,\u001b[0m\u001b[0;36m40\u001b[0m\u001b[0;34m,\u001b[0m\u001b[0;36m50\u001b[0m\u001b[0;34m,\u001b[0m\u001b[0;36m60\u001b[0m\u001b[0;34m)\u001b[0m\u001b[0;34m\u001b[0m\u001b[0m\n\u001b[0m\u001b[1;32m      8\u001b[0m \u001b[0;32mprint\u001b[0m \u001b[0madd\u001b[0m\u001b[0;34m(\u001b[0m\u001b[0ma\u001b[0m\u001b[0;34m=\u001b[0m\u001b[0;36m30\u001b[0m\u001b[0;34m,\u001b[0m\u001b[0md\u001b[0m\u001b[0;34m=\u001b[0m\u001b[0;36m40\u001b[0m\u001b[0;34m)\u001b[0m\u001b[0;34m\u001b[0m\u001b[0m\n\u001b[1;32m      9\u001b[0m \u001b[0;32mprint\u001b[0m \u001b[0madd\u001b[0m\u001b[0;34m(\u001b[0m\u001b[0ma\u001b[0m\u001b[0;34m=\u001b[0m\u001b[0;36m10\u001b[0m\u001b[0;34m,\u001b[0m\u001b[0mb\u001b[0m\u001b[0;34m=\u001b[0m\u001b[0;36m20\u001b[0m\u001b[0;34m,\u001b[0m\u001b[0me\u001b[0m\u001b[0;34m=\u001b[0m\u001b[0;36m50\u001b[0m\u001b[0;34m)\u001b[0m\u001b[0;34m\u001b[0m\u001b[0m\n",
        "\u001b[0;31mTypeError\u001b[0m: add() takes at most 5 arguments (6 given)"
       ]
      }
     ],
     "prompt_number": 10
    },
    {
     "cell_type": "code",
     "collapsed": false,
     "input": [
      "def add(a,b,c=0,d=0,e=0):\n",
      "    print \"a=%s,b=%s,c=%s,d=%s,e=%s\"%(a,b,c,d,e)\n",
      "    return a+b+c\n",
      "print add(10,20,30)\n",
      "print add(10,20)\n",
      "print add(10,20,30,40,50)\n",
      "\n",
      "print add(a=30,d=40)\n",
      "print add(a=10,b=20,e=50)"
     ],
     "language": "python",
     "metadata": {},
     "outputs": [
      {
       "output_type": "stream",
       "stream": "stdout",
       "text": [
        "a=10,b=20,c=30,d=0,e=0\n",
        "60\n",
        "a=10,b=20,c=0,d=0,e=0\n",
        "30\n",
        "a=10,b=20,c=30,d=40,e=50\n",
        "60\n"
       ]
      },
      {
       "ename": "TypeError",
       "evalue": "add() takes at least 2 arguments (2 given)",
       "output_type": "pyerr",
       "traceback": [
        "\u001b[0;31m---------------------------------------------------------------------------\u001b[0m",
        "\u001b[0;31mTypeError\u001b[0m                                 Traceback (most recent call last)",
        "\u001b[0;32m<ipython-input-11-5d1711bccd49>\u001b[0m in \u001b[0;36m<module>\u001b[0;34m()\u001b[0m\n\u001b[1;32m      6\u001b[0m \u001b[0;32mprint\u001b[0m \u001b[0madd\u001b[0m\u001b[0;34m(\u001b[0m\u001b[0;36m10\u001b[0m\u001b[0;34m,\u001b[0m\u001b[0;36m20\u001b[0m\u001b[0;34m,\u001b[0m\u001b[0;36m30\u001b[0m\u001b[0;34m,\u001b[0m\u001b[0;36m40\u001b[0m\u001b[0;34m,\u001b[0m\u001b[0;36m50\u001b[0m\u001b[0;34m)\u001b[0m\u001b[0;34m\u001b[0m\u001b[0m\n\u001b[1;32m      7\u001b[0m \u001b[0;34m\u001b[0m\u001b[0m\n\u001b[0;32m----> 8\u001b[0;31m \u001b[0;32mprint\u001b[0m \u001b[0madd\u001b[0m\u001b[0;34m(\u001b[0m\u001b[0ma\u001b[0m\u001b[0;34m=\u001b[0m\u001b[0;36m30\u001b[0m\u001b[0;34m,\u001b[0m\u001b[0md\u001b[0m\u001b[0;34m=\u001b[0m\u001b[0;36m40\u001b[0m\u001b[0;34m)\u001b[0m\u001b[0;34m\u001b[0m\u001b[0m\n\u001b[0m\u001b[1;32m      9\u001b[0m \u001b[0;32mprint\u001b[0m \u001b[0madd\u001b[0m\u001b[0;34m(\u001b[0m\u001b[0ma\u001b[0m\u001b[0;34m=\u001b[0m\u001b[0;36m10\u001b[0m\u001b[0;34m,\u001b[0m\u001b[0mb\u001b[0m\u001b[0;34m=\u001b[0m\u001b[0;36m20\u001b[0m\u001b[0;34m,\u001b[0m\u001b[0me\u001b[0m\u001b[0;34m=\u001b[0m\u001b[0;36m50\u001b[0m\u001b[0;34m)\u001b[0m\u001b[0;34m\u001b[0m\u001b[0m\n",
        "\u001b[0;31mTypeError\u001b[0m: add() takes at least 2 arguments (2 given)"
       ]
      }
     ],
     "prompt_number": 11
    },
    {
     "cell_type": "code",
     "collapsed": false,
     "input": [
      "def add(a,b,c=0,d=0,e=0):\n",
      "    print \"a=%s,b=%s,c=%s,d=%s,e=%s\"%(a,b,c,d,e)\n",
      "    return a+b+c\n",
      "print add(10,20,30)\n",
      "print add(10,20)\n",
      "print add(10,20,30,40,50)\n",
      "\n",
      "\n",
      "print add(a=10,b=20,e=50)"
     ],
     "language": "python",
     "metadata": {},
     "outputs": [
      {
       "output_type": "stream",
       "stream": "stdout",
       "text": [
        "a=10,b=20,c=30,d=0,e=0\n",
        "60\n",
        "a=10,b=20,c=0,d=0,e=0\n",
        "30\n",
        "a=10,b=20,c=30,d=40,e=50\n",
        "60\n",
        "a=10,b=20,c=0,d=0,e=50\n",
        "30\n"
       ]
      }
     ],
     "prompt_number": 12
    },
    {
     "cell_type": "code",
     "collapsed": false,
     "input": [
      "#suppose we dont know the range of parametres that i need ot give ie 1,2...n.How do you handle this type of functions.Then we write a ficntion def as fun(*a)        ()\n",
      "#*args --> concept name is called *args very important concept\n",
      "def fun(*a):          \n",
      "    print a\n",
      "    print type(a)\n",
      "                               #so *args will takes the args pass by the function call to the definion as a tuple \n",
      "    \n",
      "fun()\n",
      "fun(10)\n",
      "fun(10,20)\n",
      "fun(10,20,30)\n",
      "fun(10,20,30,40,50,60,70,80,90)"
     ],
     "language": "python",
     "metadata": {},
     "outputs": [
      {
       "output_type": "stream",
       "stream": "stdout",
       "text": [
        "()\n",
        "<type 'tuple'>\n",
        "(10,)\n",
        "<type 'tuple'>\n",
        "(10, 20)\n",
        "<type 'tuple'>\n",
        "(10, 20, 30)\n",
        "<type 'tuple'>\n",
        "(10, 20, 30, 40, 50, 60, 70, 80, 90)\n",
        "<type 'tuple'>\n"
       ]
      }
     ],
     "prompt_number": 13
    },
    {
     "cell_type": "code",
     "collapsed": false,
     "input": [
      "def fun(a,b=20,c):           #the default args should write at the end of parameter list,ie here b=20 should write at the end of paramenter list\n",
      "    print a,b,c       \n"
     ],
     "language": "python",
     "metadata": {},
     "outputs": [
      {
       "ename": "SyntaxError",
       "evalue": "non-default argument follows default argument (<ipython-input-14-9319a70ed463>, line 1)",
       "output_type": "pyerr",
       "traceback": [
        "\u001b[0;36m  File \u001b[0;32m\"<ipython-input-14-9319a70ed463>\"\u001b[0;36m, line \u001b[0;32m1\u001b[0m\n\u001b[0;31m    def fun(a,b=20,c):\u001b[0m\n\u001b[0;31mSyntaxError\u001b[0m\u001b[0;31m:\u001b[0m non-default argument follows default argument\n"
       ]
      }
     ],
     "prompt_number": 14
    },
    {
     "cell_type": "code",
     "collapsed": false,
     "input": [
      "#now i want ot pass many args that i dont know but hte minimum is two,so for this we can write definion like this\n",
      "def fun(a,b,*c):# we should not put (a,*c,b)\n",
      "    print a,b                    \n",
      "    print c\n",
      "fun()                       # we are givng fun as empty.what we think generally we are passing *c so it will take care all the things so this is wrong approcah"
     ],
     "language": "python",
     "metadata": {},
     "outputs": [
      {
       "ename": "TypeError",
       "evalue": "fun() takes at least 2 arguments (0 given)",
       "output_type": "pyerr",
       "traceback": [
        "\u001b[0;31m---------------------------------------------------------------------------\u001b[0m",
        "\u001b[0;31mTypeError\u001b[0m                                 Traceback (most recent call last)",
        "\u001b[0;32m<ipython-input-15-b9f937a0cfa6>\u001b[0m in \u001b[0;36m<module>\u001b[0;34m()\u001b[0m\n\u001b[1;32m      2\u001b[0m     \u001b[0;32mprint\u001b[0m \u001b[0ma\u001b[0m\u001b[0;34m,\u001b[0m\u001b[0mb\u001b[0m\u001b[0;34m\u001b[0m\u001b[0m\n\u001b[1;32m      3\u001b[0m     \u001b[0;32mprint\u001b[0m \u001b[0mc\u001b[0m\u001b[0;34m\u001b[0m\u001b[0m\n\u001b[0;32m----> 4\u001b[0;31m \u001b[0mfun\u001b[0m\u001b[0;34m(\u001b[0m\u001b[0;34m)\u001b[0m\u001b[0;34m\u001b[0m\u001b[0m\n\u001b[0m",
        "\u001b[0;31mTypeError\u001b[0m: fun() takes at least 2 arguments (0 given)"
       ]
      }
     ],
     "prompt_number": 15
    },
    {
     "cell_type": "code",
     "collapsed": false,
     "input": [
      "def fun(a,b,*c):\n",
      "    print a,b\n",
      "    print c\n",
      "fun(10,20,30,40,50,60,70,80)    here a=10,b=20 and c will take remaing ie 30 to 80"
     ],
     "language": "python",
     "metadata": {},
     "outputs": [
      {
       "output_type": "stream",
       "stream": "stdout",
       "text": [
        "10 20\n",
        "(30, 40, 50, 60, 70, 80)\n"
       ]
      }
     ],
     "prompt_number": 16
    },
    {
     "cell_type": "code",
     "collapsed": false,
     "input": [
      "def fun(a,*b,c):   #but if we write a defintion like this it gives as error showing asinvalid syntax\n",
      "    print a,b\n",
      "    print c\n",
      "fun(10,20,30,40,50,60,70,80)"
     ],
     "language": "python",
     "metadata": {},
     "outputs": [
      {
       "ename": "SyntaxError",
       "evalue": "invalid syntax (<ipython-input-17-3bc9f6609c41>, line 1)",
       "output_type": "pyerr",
       "traceback": [
        "\u001b[0;36m  File \u001b[0;32m\"<ipython-input-17-3bc9f6609c41>\"\u001b[0;36m, line \u001b[0;32m1\u001b[0m\n\u001b[0;31m    def fun(a,*b,c):\u001b[0m\n\u001b[0m                 ^\u001b[0m\n\u001b[0;31mSyntaxError\u001b[0m\u001b[0;31m:\u001b[0m invalid syntax\n"
       ]
      }
     ],
     "prompt_number": 17
    },
    {
     "cell_type": "code",
     "collapsed": false,
     "input": [
      "def fun(a,b,*c):\n",
      "    print a,b      \n",
      "    print c\n",
      "fun(a=10,b=20,30,40,50,60,70,80)   #again here also error because  keyword args should mention at the of parameter list\n",
      "                                    #eventhough we have *c it gives an error"
     ],
     "language": "python",
     "metadata": {},
     "outputs": [
      {
       "ename": "SyntaxError",
       "evalue": "non-keyword arg after keyword arg (<ipython-input-18-88b819244cca>, line 4)",
       "output_type": "pyerr",
       "traceback": [
        "\u001b[0;36m  File \u001b[0;32m\"<ipython-input-18-88b819244cca>\"\u001b[0;36m, line \u001b[0;32m4\u001b[0m\n\u001b[0;31m    fun(a=10,b=20,30,40,50,60,70,80)\u001b[0m\n\u001b[0;31mSyntaxError\u001b[0m\u001b[0;31m:\u001b[0m non-keyword arg after keyword arg\n"
       ]
      }
     ],
     "prompt_number": 18
    },
    {
     "cell_type": "code",
     "collapsed": false,
     "input": [
      "def fun(*c):\n",
      "    print c\n",
      "fun(c=(10,20,30,40,50,60))    # gives an error because we should pass *c as an keyword argumant."
     ],
     "language": "python",
     "metadata": {},
     "outputs": [
      {
       "ename": "TypeError",
       "evalue": "fun() got an unexpected keyword argument 'c'",
       "output_type": "pyerr",
       "traceback": [
        "\u001b[0;31m---------------------------------------------------------------------------\u001b[0m",
        "\u001b[0;31mTypeError\u001b[0m                                 Traceback (most recent call last)",
        "\u001b[0;32m<ipython-input-19-6b3b0b9b3537>\u001b[0m in \u001b[0;36m<module>\u001b[0;34m()\u001b[0m\n\u001b[1;32m      1\u001b[0m \u001b[0;32mdef\u001b[0m \u001b[0mfun\u001b[0m\u001b[0;34m(\u001b[0m\u001b[0;34m*\u001b[0m\u001b[0mc\u001b[0m\u001b[0;34m)\u001b[0m\u001b[0;34m:\u001b[0m\u001b[0;34m\u001b[0m\u001b[0m\n\u001b[1;32m      2\u001b[0m     \u001b[0;32mprint\u001b[0m \u001b[0mc\u001b[0m\u001b[0;34m\u001b[0m\u001b[0m\n\u001b[0;32m----> 3\u001b[0;31m \u001b[0mfun\u001b[0m\u001b[0;34m(\u001b[0m\u001b[0mc\u001b[0m\u001b[0;34m=\u001b[0m\u001b[0;34m(\u001b[0m\u001b[0;36m10\u001b[0m\u001b[0;34m,\u001b[0m\u001b[0;36m20\u001b[0m\u001b[0;34m,\u001b[0m\u001b[0;36m30\u001b[0m\u001b[0;34m,\u001b[0m\u001b[0;36m40\u001b[0m\u001b[0;34m,\u001b[0m\u001b[0;36m50\u001b[0m\u001b[0;34m,\u001b[0m\u001b[0;36m60\u001b[0m\u001b[0;34m)\u001b[0m\u001b[0;34m)\u001b[0m\u001b[0;34m\u001b[0m\u001b[0m\n\u001b[0m",
        "\u001b[0;31mTypeError\u001b[0m: fun() got an unexpected keyword argument 'c'"
       ]
      }
     ],
     "prompt_number": 19
    },
    {
     "cell_type": "code",
     "collapsed": false,
     "input": [
      "def fun(*c):\n",
      "    print c\n",
      "a=(10,20,30,40,50,60,708,90)\n",
      "fun(10,20,30,40,50,60,708,90)"
     ],
     "language": "python",
     "metadata": {},
     "outputs": [
      {
       "output_type": "stream",
       "stream": "stdout",
       "text": [
        "(10, 20, 30, 40, 50, 60, 708, 90)\n"
       ]
      }
     ],
     "prompt_number": 20
    },
    {
     "cell_type": "code",
     "collapsed": false,
     "input": [
      "def fun(*c):\n",
      "    print c\n",
      "\n",
      "# here we can pass argumant as list/tuple/dictionay also\n",
      "fun((10,20,30),[10,20,30,40]) # output the return type of c is tuple,so in output can be shown as single tuple with two tuples elements inside it"
     ],
     "language": "python",
     "metadata": {},
     "outputs": [
      {
       "output_type": "stream",
       "stream": "stdout",
       "text": [
        "((10, 20, 30), [10, 20, 30, 40])\n"
       ]
      }
     ],
     "prompt_number": 21
    },
    {
     "cell_type": "code",
     "collapsed": false,
     "input": [
      "def fun(*c):\n",
      "    print c\n",
      "a=(10,20,30,40,50,60,708,90)    # if we give tuple it will take as tuple with single element and length of c is one\n",
      "fun(a)                           #here it si taking single tuple with in that another tuple.ie it is taking multidimentional tuple"
     ],
     "language": "python",
     "metadata": {},
     "outputs": [
      {
       "output_type": "stream",
       "stream": "stdout",
       "text": [
        "((10, 20, 30, 40, 50, 60, 708, 90),)\n"
       ]
      }
     ],
     "prompt_number": 22
    },
    {
     "cell_type": "code",
     "collapsed": false,
     "input": [
      "def fun(*c):\n",
      "    print c\n",
      "    print len(c)\n",
      "a=(10,20,30,40,50,60,708,90)  \n",
      "fun(a)"
     ],
     "language": "python",
     "metadata": {},
     "outputs": [
      {
       "output_type": "stream",
       "stream": "stdout",
       "text": [
        "((10, 20, 30, 40, 50, 60, 708, 90),)\n",
        "1\n"
       ]
      }
     ],
     "prompt_number": 23
    },
    {
     "cell_type": "code",
     "collapsed": false,
     "input": [
      "#how to pass as a single dimentional tuple how can we do means by fun with *a as argument\n",
      "def fun(*c):\n",
      "    print c\n",
      "    print len(c)\n",
      "a=(10,20,30,40,50,60,708,90) #length of tuple is 8 here\n",
      "fun(*a)  # *args is there in definion why not htere in function call"
     ],
     "language": "python",
     "metadata": {},
     "outputs": [
      {
       "output_type": "stream",
       "stream": "stdout",
       "text": [
        "(10, 20, 30, 40, 50, 60, 708, 90)\n",
        "8\n"
       ]
      }
     ],
     "prompt_number": 24
    },
    {
     "cell_type": "code",
     "collapsed": false,
     "input": [
      "def fun(*c):\n",
      "    print c[0]\n",
      "    print len(c[0])    # this approach is also ok i mean another approach\n",
      "a=(10,20,30,40,50,60,708,90)\n",
      "fun(a)"
     ],
     "language": "python",
     "metadata": {},
     "outputs": [
      {
       "output_type": "stream",
       "stream": "stdout",
       "text": [
        "(10, 20, 30, 40, 50, 60, 708, 90)\n",
        "8\n"
       ]
      }
     ],
     "prompt_number": 26
    },
    {
     "cell_type": "code",
     "collapsed": false,
     "input": [
      "# now sir again going ot default argumants function concepts\n",
      "def add(a,b,c=0,d=0,e=0):\n",
      "    print \"a=%s,b=%s,c=%s,d=%s,e=%s\"%(a,b,c,d,e)   \n",
      "    return a+b+c\n",
      "print add(a=10,b=30,d=50,c=40,e=60)"
     ],
     "language": "python",
     "metadata": {},
     "outputs": [
      {
       "output_type": "stream",
       "stream": "stdout",
       "text": [
        "a=10,b=30,c=40,d=50,e=60\n",
        "80\n"
       ]
      }
     ],
     "prompt_number": 27
    },
    {
     "cell_type": "code",
     "collapsed": false,
     "input": [
      "add(a=100,f=300) #it is not possible because f is not in parameter list add(a,b,c=0,d-0,e=0) so it throws an error\n",
      "\n",
      "# now i want to take any parameter which is not defined what can we do,for that we are going t further approach"
     ],
     "language": "python",
     "metadata": {},
     "outputs": [
      {
       "ename": "TypeError",
       "evalue": "add() got an unexpected keyword argument 'f'",
       "output_type": "pyerr",
       "traceback": [
        "\u001b[0;31m---------------------------------------------------------------------------\u001b[0m",
        "\u001b[0;31mTypeError\u001b[0m                                 Traceback (most recent call last)",
        "\u001b[0;32m<ipython-input-29-361da3eff683>\u001b[0m in \u001b[0;36m<module>\u001b[0;34m()\u001b[0m\n\u001b[0;32m----> 1\u001b[0;31m \u001b[0madd\u001b[0m\u001b[0;34m(\u001b[0m\u001b[0ma\u001b[0m\u001b[0;34m=\u001b[0m\u001b[0;36m100\u001b[0m\u001b[0;34m,\u001b[0m\u001b[0mf\u001b[0m\u001b[0;34m=\u001b[0m\u001b[0;36m300\u001b[0m\u001b[0;34m)\u001b[0m\u001b[0;34m\u001b[0m\u001b[0m\n\u001b[0m",
        "\u001b[0;31mTypeError\u001b[0m: add() got an unexpected keyword argument 'f'"
       ]
      }
     ],
     "prompt_number": 29
    },
    {
     "cell_type": "code",
     "collapsed": false,
     "input": [
      "def add(a,b,c=0,d=0,e=0,**kw):     # so if we wrote **kw (or any just sir took kw means keyword or u can take **mm/**sham or any...)\n",
      "    print kw                        # here kw will print as dictionary\n",
      "    print \"a=%s,b=%s,c=%s,d=%s,e=%s\"%(a,b,c,d,e)\n",
      "    return a+b+c\n",
      "print add(a=10,b=30,d=50,c=40,e=60)"
     ],
     "language": "python",
     "metadata": {},
     "outputs": [
      {
       "output_type": "stream",
       "stream": "stdout",
       "text": [
        "{}\n",
        "a=10,b=30,c=40,d=50,e=60\n",
        "80\n"
       ]
      }
     ],
     "prompt_number": 30
    },
    {
     "cell_type": "code",
     "collapsed": false,
     "input": [
      "def add(a,b,c=0,d=0,e=0,**kw):\n",
      "    print kw\n",
      "    print \"a=%s,b=%s,c=%s,d=%s,e=%s\"%(a,b,c,d,e)\n",
      "    return a+b+c\n",
      "print add(a=10,b=30,d=50,f=40,g=50)  # that means if we pass any kw arguments that were not there thaere in list that is taken care by **kw\n",
      "#look here we passed f=40,g=50 which were not there in parameter list\n",
      "#ie *a will take normal args and **kw will take keyword argumants\n",
      "#so when keyword argumants means we get in to our mind as dictionaries"
     ],
     "language": "python",
     "metadata": {},
     "outputs": [
      {
       "output_type": "stream",
       "stream": "stdout",
       "text": [
        "{'g': 50, 'f': 40}\n",
        "a=10,b=30,c=0,d=50,e=0\n",
        "40\n"
       ]
      }
     ],
     "prompt_number": 31
    },
    {
     "cell_type": "code",
     "collapsed": false,
     "input": [
      "#this is another example\n",
      "def person(**data):\n",
      "    print data\n",
      "person(name=\"sdf\",age=23,sal=2345)\n",
      "person(name=\"sdf\",age=23,sal=2345,pan=\"sdfsd\")\n",
      "person(name=\"sdf\",age=23,sal=2345,adhar=\"sdfs\")\n",
      "person(name=\"sdf\",age=23,sal=2345,pan=\"sdfsd\",adhar=\"sdfs\",passport=\"dsfsdfsd\") #this now column passport added still it has to accept\n",
      "#here person function is accepting what ever may be the arguments"
     ],
     "language": "python",
     "metadata": {},
     "outputs": [
      {
       "output_type": "stream",
       "stream": "stdout",
       "text": [
        "{'age': 23, 'name': 'sdf', 'sal': 2345}\n",
        "{'age': 23, 'name': 'sdf', 'pan': 'sdfsd', 'sal': 2345}\n",
        "{'adhar': 'sdfs', 'age': 23, 'name': 'sdf', 'sal': 2345}\n",
        "{'name': 'sdf', 'sal': 2345, 'age': 23, 'adhar': 'sdfs', 'passport': 'dsfsdfsd', 'pan': 'sdfsd'}\n"
       ]
      }
     ],
     "prompt_number": 32
    },
    {
     "cell_type": "code",
     "collapsed": false,
     "input": [
      "person(\"name1\",23,23456) # we cannot call person like this "
     ],
     "language": "python",
     "metadata": {},
     "outputs": [
      {
       "ename": "TypeError",
       "evalue": "person() takes exactly 0 arguments (3 given)",
       "output_type": "pyerr",
       "traceback": [
        "\u001b[0;31m---------------------------------------------------------------------------\u001b[0m",
        "\u001b[0;31mTypeError\u001b[0m                                 Traceback (most recent call last)",
        "\u001b[0;32m<ipython-input-33-7de376ab931a>\u001b[0m in \u001b[0;36m<module>\u001b[0;34m()\u001b[0m\n\u001b[0;32m----> 1\u001b[0;31m \u001b[0mperson\u001b[0m\u001b[0;34m(\u001b[0m\u001b[0;34m\"name1\"\u001b[0m\u001b[0;34m,\u001b[0m\u001b[0;36m23\u001b[0m\u001b[0;34m,\u001b[0m\u001b[0;36m23456\u001b[0m\u001b[0;34m)\u001b[0m\u001b[0;34m\u001b[0m\u001b[0m\n\u001b[0m",
        "\u001b[0;31mTypeError\u001b[0m: person() takes exactly 0 arguments (3 given)"
       ]
      }
     ],
     "prompt_number": 33
    },
    {
     "cell_type": "code",
     "collapsed": true,
     "input": [
      "#here in this class we have to know 4 questions\n",
      "#1.when do we go for *a( star argumnets)-->\n",
      "#2.When do we go for **kw(double star argumants)-->\n",
      "#3.when do we go for default arguments -->"
     ],
     "language": "python",
     "metadata": {},
     "outputs": [],
     "prompt_number": null
    }
   ],
   "metadata": {}
  }
 ]
}